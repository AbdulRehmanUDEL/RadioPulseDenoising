{
 "cells": [
  {
   "cell_type": "code",
   "execution_count": 1,
   "id": "997b487d",
   "metadata": {},
   "outputs": [
    {
     "data": {
      "text/html": [
       "<style>.container { width:90% !important; }</style>"
      ],
      "text/plain": [
       "<IPython.core.display.HTML object>"
      ]
     },
     "metadata": {},
     "output_type": "display_data"
    }
   ],
   "source": [
    "## In this script we create the networks architecture and also train the networks.\n",
    "\n",
    "from IPython.display import display, HTML\n",
    "display(HTML(\"<style>.container { width:90% !important; }</style>\"))"
   ]
  },
  {
   "cell_type": "markdown",
   "id": "4f168f8b",
   "metadata": {},
   "source": [
    "# Classifier:"
   ]
  },
  {
   "cell_type": "code",
   "execution_count": 2,
   "id": "d968dd71",
   "metadata": {},
   "outputs": [],
   "source": [
    "## Importing libraries\n",
    "\n",
    "import tensorflow as tf\n",
    "seed = 786\n",
    "tf.keras.utils.set_random_seed(seed)\n",
    "# tf.config.experimental.enable_op_determinism()\n",
    "\n",
    "from tensorflow.keras import backend as K\n",
    "\n",
    "\n",
    "import numpy as np\n",
    "import matplotlib.pyplot as plt\n",
    "import matplotlib.gridspec as gridspec\n",
    "\n",
    "import tensorflow as tf\n",
    "from tensorflow.keras.models import Model\n",
    "# from tensorflow.keras.layers import Input\n",
    "from tensorflow.keras.layers import Input, Conv1D, MaxPooling1D, UpSampling1D, Concatenate, Flatten, Dense\n",
    "from tensorflow.keras.callbacks import ModelCheckpoint, EarlyStopping, Callback"
   ]
  },
  {
   "cell_type": "code",
   "execution_count": 3,
   "id": "46bf6016",
   "metadata": {},
   "outputs": [],
   "source": [
    "## Function to normalize the traces in range [-1, 1]\n",
    "def normalize_array(array):\n",
    "    normalized_array = np.zeros_like(array)  # Create a new array to store normalized values\n",
    "    scale_fac = []\n",
    "    for i in range(array.shape[0]):  # Iterate over samples/events\n",
    "        max_value = np.max(np.abs(array[i]))  # Calculate the maximum value across both channels\n",
    "        \n",
    "        if max_value != 0:  # Avoid division by zero\n",
    "            normalized_sample = array[i] / max_value\n",
    "            normalized_array[i] = normalized_sample\n",
    "        else:\n",
    "            print(\"Max vlue 0 encountered at index :\", i)\n",
    "        scale_fac.append(max_value)\n",
    "    return normalized_array, scale_fac\n",
    "\n",
    "\n",
    "\n",
    "## This class can change the learning rate with the given factor and patience\n",
    "class LearningRateScheduler(Callback):\n",
    "    def __init__(self, factor, patience):\n",
    "        super(LearningRateScheduler, self).__init__()\n",
    "        self.factor = factor\n",
    "        self.patience = patience\n",
    "        self.wait = 0\n",
    "        self.best_val_loss = float('inf')\n",
    "\n",
    "    def on_epoch_end(self, epoch, logs=None):\n",
    "        current_val_loss = logs.get('val_loss')\n",
    "        \n",
    "        if current_val_loss < self.best_val_loss:\n",
    "            self.best_val_loss = current_val_loss\n",
    "            self.wait = 0\n",
    "        else:\n",
    "            self.wait += 1\n",
    "            if self.wait >= self.patience:\n",
    "                old_lr = float(K.get_value(self.model.optimizer.lr))\n",
    "                new_lr = old_lr * self.factor\n",
    "                K.set_value(self.model.optimizer.lr, new_lr)\n",
    "                self.wait = 0\n",
    "                print(f\"Reducing learning rate to {new_lr}\")"
   ]
  },
  {
   "cell_type": "code",
   "execution_count": 4,
   "id": "b98e4d36",
   "metadata": {},
   "outputs": [],
   "source": [
    "## Loading the data\n",
    "## \n",
    "\n",
    "# ant = \"ant1\"\n",
    "# DataDir = (\"/mnt/janus/arehman/work/2024_V7/JanFeb_70-350/2D_CNN/Classifier/\")\n",
    "\n",
    "## Provide the data directory\n",
    "DataDir = \"\"\n",
    "\n",
    "x_train = np.load(DataDir + f\"/TstTrn/{ant}_Traces_train.npy\")\n",
    "x_test = np.load(DataDir + f\"/TstTrn/{ant}_Traces_test.npy\")\n",
    "\n",
    "y_train = np.load(DataDir + f\"/TstTrn/{ant}_Labels_train.npy\")\n",
    "y_test = np.load(DataDir + f\"/TstTrn/{ant}_Labels_test.npy\")\n",
    "\n",
    "\n",
    "### Normalizing\n",
    "x_train, scalefac = normalize_array(x_train)\n",
    "x_test, scalefacT = normalize_array(x_test)"
   ]
  },
  {
   "cell_type": "code",
   "execution_count": 9,
   "id": "51b427d8",
   "metadata": {},
   "outputs": [
    {
     "data": {
      "text/plain": [
       "(267054, 1000, 2)"
      ]
     },
     "execution_count": 9,
     "metadata": {},
     "output_type": "execute_result"
    }
   ],
   "source": [
    "x_train.shape"
   ]
  },
  {
   "cell_type": "code",
   "execution_count": 10,
   "id": "2e87556c",
   "metadata": {},
   "outputs": [
    {
     "name": "stdout",
     "output_type": "stream",
     "text": [
      "Total size in Gbs = 4.272864\n"
     ]
    }
   ],
   "source": [
    "# x_train =  np.array(x_train, dtype='float32')\n",
    "print(f\"Total size in Gbs = {x_train.nbytes/10**9}\")"
   ]
  },
  {
   "cell_type": "code",
   "execution_count": 5,
   "id": "ff6fd569",
   "metadata": {},
   "outputs": [],
   "source": [
    "## Creating the Classifier network\n",
    "\n",
    "def CreateModel(KS, FIL, Layers, lr=5e-3):\n",
    "\n",
    "    # Define the input shape for each polarization\n",
    "    input_shape = (1000, 2)  # 2 channels, 1 for each polarization\n",
    "\n",
    "    # Define the input layer\n",
    "    input_layer = Input(shape=input_shape)\n",
    "    x = input_layer\n",
    "\n",
    "    # Convolutional layers\n",
    "    for i in range(Layers):\n",
    "        x = Conv1D(filters=FIL, kernel_size=KS, activation='relu', padding='same')(x)\n",
    "        x = MaxPooling1D(pool_size=2)(x)\n",
    "\n",
    "    # Flatten the pooled output\n",
    "    x = Flatten()(x)\n",
    "    \n",
    "    ## Adding more dense layers didn't help imporve results, but can be added like below\n",
    "#     x = Dense(64, activation='relu')(x)\n",
    "    output = Dense(1, activation='sigmoid')(x)\n",
    "\n",
    "    # Create the model\n",
    "    model = Model(inputs=input_layer, outputs=output)\n",
    "\n",
    "    # Compile the model, with defined loss and optimizer\n",
    "    model.compile(optimizer=tf.keras.optimizers.Adam(learning_rate=lr), loss='mse', metrics=['accuracy'])\n",
    "    \n",
    "    return model"
   ]
  },
  {
   "cell_type": "code",
   "execution_count": 8,
   "id": "9328d60c",
   "metadata": {
    "scrolled": true
   },
   "outputs": [
    {
     "name": "stdout",
     "output_type": "stream",
     "text": [
      "Epoch 1/10\n",
      "529/535 [============================>.] - ETA: 0s - loss: 0.2356 - accuracy: 0.5873\n",
      "Epoch 00001: val_loss improved from inf to 0.22087, saving model to /mnt/janus/arehman/work/2024_V7/JanFeb_70-350/2D_CNN/Classifier//TempModels/Classifier_ant1.h5\n",
      "535/535 [==============================] - 6s 9ms/step - loss: 0.2355 - accuracy: 0.5875 - val_loss: 0.2209 - val_accuracy: 0.6263\n",
      "Epoch 2/10\n",
      "527/535 [============================>.] - ETA: 0s - loss: 0.2199 - accuracy: 0.6269\n",
      "Epoch 00002: val_loss improved from 0.22087 to 0.21856, saving model to /mnt/janus/arehman/work/2024_V7/JanFeb_70-350/2D_CNN/Classifier//TempModels/Classifier_ant1.h5\n",
      "535/535 [==============================] - 3s 6ms/step - loss: 0.2199 - accuracy: 0.6270 - val_loss: 0.2186 - val_accuracy: 0.6295\n",
      "Epoch 3/10\n",
      "527/535 [============================>.] - ETA: 0s - loss: 0.2185 - accuracy: 0.6298\n",
      "Epoch 00003: val_loss improved from 0.21856 to 0.21757, saving model to /mnt/janus/arehman/work/2024_V7/JanFeb_70-350/2D_CNN/Classifier//TempModels/Classifier_ant1.h5\n",
      "535/535 [==============================] - 3s 6ms/step - loss: 0.2186 - accuracy: 0.6297 - val_loss: 0.2176 - val_accuracy: 0.6348\n",
      "Epoch 4/10\n",
      "533/535 [============================>.] - ETA: 0s - loss: 0.2173 - accuracy: 0.6329\n",
      "Epoch 00004: val_loss improved from 0.21757 to 0.21618, saving model to /mnt/janus/arehman/work/2024_V7/JanFeb_70-350/2D_CNN/Classifier//TempModels/Classifier_ant1.h5\n",
      "535/535 [==============================] - 3s 6ms/step - loss: 0.2173 - accuracy: 0.6329 - val_loss: 0.2162 - val_accuracy: 0.6362\n",
      "Epoch 5/10\n",
      "531/535 [============================>.] - ETA: 0s - loss: 0.2162 - accuracy: 0.6354\n",
      "Epoch 00005: val_loss improved from 0.21618 to 0.21582, saving model to /mnt/janus/arehman/work/2024_V7/JanFeb_70-350/2D_CNN/Classifier//TempModels/Classifier_ant1.h5\n",
      "535/535 [==============================] - 3s 6ms/step - loss: 0.2162 - accuracy: 0.6356 - val_loss: 0.2158 - val_accuracy: 0.6421\n",
      "Epoch 6/10\n",
      "532/535 [============================>.] - ETA: 0s - loss: 0.2152 - accuracy: 0.6393\n",
      "Epoch 00006: val_loss improved from 0.21582 to 0.21497, saving model to /mnt/janus/arehman/work/2024_V7/JanFeb_70-350/2D_CNN/Classifier//TempModels/Classifier_ant1.h5\n",
      "535/535 [==============================] - 3s 6ms/step - loss: 0.2152 - accuracy: 0.6393 - val_loss: 0.2150 - val_accuracy: 0.6449\n",
      "Epoch 7/10\n",
      "527/535 [============================>.] - ETA: 0s - loss: 0.2142 - accuracy: 0.6416\n",
      "Epoch 00007: val_loss improved from 0.21497 to 0.21313, saving model to /mnt/janus/arehman/work/2024_V7/JanFeb_70-350/2D_CNN/Classifier//TempModels/Classifier_ant1.h5\n",
      "535/535 [==============================] - 3s 6ms/step - loss: 0.2142 - accuracy: 0.6416 - val_loss: 0.2131 - val_accuracy: 0.6466\n",
      "Epoch 8/10\n",
      "535/535 [==============================] - ETA: 0s - loss: 0.2135 - accuracy: 0.6438\n",
      "Epoch 00008: val_loss improved from 0.21313 to 0.21266, saving model to /mnt/janus/arehman/work/2024_V7/JanFeb_70-350/2D_CNN/Classifier//TempModels/Classifier_ant1.h5\n",
      "535/535 [==============================] - 4s 7ms/step - loss: 0.2135 - accuracy: 0.6438 - val_loss: 0.2127 - val_accuracy: 0.6438\n",
      "Epoch 9/10\n",
      "531/535 [============================>.] - ETA: 0s - loss: 0.2124 - accuracy: 0.6462\n",
      "Epoch 00009: val_loss improved from 0.21266 to 0.21240, saving model to /mnt/janus/arehman/work/2024_V7/JanFeb_70-350/2D_CNN/Classifier//TempModels/Classifier_ant1.h5\n",
      "535/535 [==============================] - 3s 6ms/step - loss: 0.2123 - accuracy: 0.6465 - val_loss: 0.2124 - val_accuracy: 0.6554\n",
      "Epoch 10/10\n",
      "525/535 [============================>.] - ETA: 0s - loss: 0.2113 - accuracy: 0.6497\n",
      "Epoch 00010: val_loss improved from 0.21240 to 0.21071, saving model to /mnt/janus/arehman/work/2024_V7/JanFeb_70-350/2D_CNN/Classifier//TempModels/Classifier_ant1.h5\n",
      "535/535 [==============================] - 3s 7ms/step - loss: 0.2113 - accuracy: 0.6499 - val_loss: 0.2107 - val_accuracy: 0.6577\n"
     ]
    }
   ],
   "source": [
    "ModelsDir = DataDir + \"/TempModels\"\n",
    "\n",
    "### Training Settings\n",
    "## Learning rate schefuler\n",
    "lr_scheduler = LearningRateScheduler(factor=0.5, patience=5)\n",
    "\n",
    "## Early Stopping Criterion\n",
    "es = EarlyStopping(monitor='val_loss', mode='min',restore_best_weights=True, verbose=1, patience=5)\n",
    "\n",
    "## Model checkpoints\n",
    "mc = ModelCheckpoint(ModelsDir+f'/Classifier_{ant}.h5',\n",
    "                                    monitor = 'val_loss', mode = 'min', verbose=1, save_best_only=True)\n",
    "\n",
    "## Create networks\n",
    "autoencoder = CreateModel(KS=33, FIL=6, Layers=3, lr=1e-4)\n",
    "\n",
    "## Training (only doing for 10 epochs here)\n",
    "history = autoencoder.fit(x_train, y_train,\n",
    "                          epochs=10,\n",
    "                          batch_size=500,\n",
    "                          shuffle=True,\n",
    "                          validation_data=(x_test, y_test),\n",
    "                          callbacks=[lr_scheduler, es, mc])"
   ]
  },
  {
   "cell_type": "code",
   "execution_count": 9,
   "id": "aaafac54",
   "metadata": {},
   "outputs": [
    {
     "data": {
      "text/plain": [
       "dict_keys(['loss', 'accuracy', 'val_loss', 'val_accuracy'])"
      ]
     },
     "execution_count": 9,
     "metadata": {},
     "output_type": "execute_result"
    }
   ],
   "source": [
    "history.history.keys()"
   ]
  },
  {
   "cell_type": "code",
   "execution_count": 10,
   "id": "2f1dde13",
   "metadata": {},
   "outputs": [],
   "source": [
    "train_loss = history.history[list(history.history.keys())[0]]\n",
    "test_loss = history.history[list(history.history.keys())[2]]\n",
    "\n",
    "train_accu = history.history[list(history.history.keys())[1]]\n",
    "test_accu = history.history[list(history.history.keys())[3]]"
   ]
  },
  {
   "cell_type": "code",
   "execution_count": 13,
   "id": "3c9265a8",
   "metadata": {},
   "outputs": [
    {
     "data": {
      "image/png": "[encoded data removed]",
      "text/plain": [
       "<Figure size 640x480 with 1 Axes>"
      ]
     },
     "metadata": {},
     "output_type": "display_data"
    },
    {
     "data": {
      "image/png": "[encoded data removed]",
      "text/plain": [
       "<Figure size 640x480 with 1 Axes>"
      ]
     },
     "metadata": {},
     "output_type": "display_data"
    }
   ],
   "source": [
    "plt.plot(train_loss, label=\"train_loss\")\n",
    "plt.plot(test_loss, label=\"test_loss\")\n",
    "plt.legend()\n",
    "plt.figure()\n",
    "plt.plot(train_accu, label=\"train_accu\")\n",
    "plt.plot(test_accu, label=\"test_accu\")\n",
    "plt.legend();"
   ]
  },
  {
   "cell_type": "code",
   "execution_count": null,
   "id": "f1102bb3",
   "metadata": {},
   "outputs": [],
   "source": []
  },
  {
   "cell_type": "markdown",
   "id": "6f4823fd",
   "metadata": {},
   "source": [
    "# Denoiser"
   ]
  },
  {
   "cell_type": "code",
   "execution_count": 14,
   "id": "ae24690b",
   "metadata": {},
   "outputs": [],
   "source": [
    "import tensorflow as tf\n",
    "seed = 786\n",
    "tf.keras.utils.set_random_seed(seed)\n",
    "# tf.config.experimental.enable_op_determinism()\n",
    "\n",
    "from tensorflow.keras import backend as K\n",
    "\n",
    "import numpy as np\n",
    "import matplotlib.pyplot as plt\n",
    "\n",
    "import tensorflow as tf\n",
    "from tensorflow.keras.models import Model\n",
    "from tensorflow.keras.layers import Input, Conv1D, MaxPooling1D, UpSampling1D, Concatenate, Flatten, Dense\n",
    "from tensorflow.keras.callbacks import ModelCheckpoint, EarlyStopping, Callback\n",
    "from tensorflow.keras.optimizers import Adam, RMSprop\n",
    "\n",
    "\n",
    "def normalize_deno_array(array, y_array):\n",
    "    normalized_array = np.zeros_like(array)  # Create a new array to store normalized values\n",
    "    normalized_y_array = np.zeros_like(array)  \n",
    "    \n",
    "    scale_fac = []\n",
    "    for i in range(array.shape[0]):  # Iterate over samples/events\n",
    "        max_value = np.max(np.abs(array[i]))  # Calculate the maximum value across both channels\n",
    "        \n",
    "        if max_value != 0:  # Avoid division by zero\n",
    "            normalized_sample = array[i] / max_value\n",
    "            normalized_array[i] = normalized_sample\n",
    "            \n",
    "            ## Normalizing labels\n",
    "            normalized_y_sample = y_array[i] / max_value\n",
    "            normalized_y_array[i] = normalized_y_sample\n",
    "            \n",
    "        else:\n",
    "            print(\"Max vlue 0 encountered at index :\", i)\n",
    "        scale_fac.append(max_value)\n",
    "    return normalized_array, normalized_y_array, scale_fac\n"
   ]
  },
  {
   "cell_type": "code",
   "execution_count": 15,
   "id": "616d8405",
   "metadata": {},
   "outputs": [],
   "source": [
    "## Loading data\n",
    "\n",
    "# ant = \"ant1\"\n",
    "# DataDir = (\"/mnt/janus/arehman/work/2024_V7/JanFeb_70-350/2D_CNN/Denoiser/TstTrn\")\n",
    "\n",
    "## Provide the denoiser data directory\n",
    "DataDir = \"\"\n",
    "\n",
    "\n",
    "x_train = np.load(DataDir + f\"/{ant}_Noisy_train.npy\")\n",
    "x_test = np.load(DataDir + f\"/{ant}_Noisy_test.npy\")\n",
    "\n",
    "y_train = np.load(DataDir + f\"/{ant}_Signals_train.npy\")\n",
    "y_test = np.load(DataDir + f\"/{ant}_Signals_test.npy\")\n",
    "\n",
    "### Normalizing\n",
    "x_train, y_train, scalefac = normalize_deno_array(x_train, y_train)\n",
    "x_test, y_test, scalefacT = normalize_deno_array(x_test, y_test)"
   ]
  },
  {
   "cell_type": "code",
   "execution_count": 16,
   "id": "dfc75272",
   "metadata": {},
   "outputs": [],
   "source": [
    "class LearningRateScheduler(Callback):\n",
    "    def __init__(self, factor, patience):\n",
    "        super(LearningRateScheduler, self).__init__()\n",
    "        self.factor = factor\n",
    "        self.patience = patience\n",
    "        self.wait = 0\n",
    "        self.best_val_loss = float('inf')\n",
    "\n",
    "    def on_epoch_end(self, epoch, logs=None):\n",
    "        current_val_loss = logs.get('val_loss')\n",
    "        \n",
    "        if current_val_loss < self.best_val_loss:\n",
    "            self.best_val_loss = current_val_loss\n",
    "            self.wait = 0\n",
    "        else:\n",
    "            self.wait += 1\n",
    "            if self.wait >= self.patience:\n",
    "                old_lr = float(K.get_value(self.model.optimizer.lr))\n",
    "                new_lr = old_lr * self.factor\n",
    "                K.set_value(self.model.optimizer.lr, new_lr)\n",
    "                self.wait = 0\n",
    "                print(f\"Reducing learning rate to {new_lr}\")\n",
    "\n",
    "def CorrCoeff(y_true, y_pred):\n",
    "    x = y_true\n",
    "    y = y_pred\n",
    "    mx = K.mean(x)\n",
    "    my = mx\n",
    "    xm, ym = x-mx, y-my\n",
    "    r_num = K.sum(tf.multiply(xm,ym))\n",
    "    r_den = K.sqrt(tf.multiply(K.sum(K.square(xm)), K.sum(K.square(ym))))\n",
    "    r = r_num / r_den\n",
    "    return r\n",
    "# Custom correlation metric\n",
    "def CC2(y_true, y_pred):\n",
    "    def pearson_correlation(x, y):\n",
    "        mean_x = K.mean(x)\n",
    "        mean_y = K.mean(y)\n",
    "        cov_xy = K.sum((x - mean_x) * (y - mean_y))\n",
    "        std_x = K.sqrt(K.sum(K.square(x - mean_x)))\n",
    "        std_y = K.sqrt(K.sum(K.square(y - mean_y)))\n",
    "        correlation = cov_xy / (std_x * std_y)\n",
    "        return correlation\n",
    "\n",
    "    correlation = tf.py_function(pearson_correlation, [y_true, y_pred], tf.float32)\n",
    "    return correlation\n",
    "\n",
    "\n",
    "def Denoiser(fil, ks, lr=1e-3):\n",
    "    input_shape = (1000, 2)\n",
    "\n",
    "    # Encoder architecture\n",
    "    input_layer = Input(shape=input_shape)\n",
    "    \n",
    "    x = Conv1D(fil, ks, activation='relu', padding='same')(input_layer)\n",
    "    x = MaxPooling1D(2, padding='same')(x)\n",
    "    x = Conv1D(fil, ks, activation='relu', padding='same')(x)\n",
    "    x = MaxPooling1D(2, padding='same')(x)\n",
    "    x = Conv1D(fil, ks, activation='relu', padding='same')(x)\n",
    "    x = MaxPooling1D(2, padding='same')(x)\n",
    "\n",
    "    # Decoder architecture\n",
    "    x = Conv1D(fil, ks, activation='relu', padding='same')(x)\n",
    "    x = UpSampling1D(2)(x)\n",
    "    x = Conv1D(fil, ks, activation='relu', padding='same')(x)\n",
    "    x = UpSampling1D(2)(x)\n",
    "    x = Conv1D(fil, ks, activation='relu', padding='same')(x)\n",
    "    x = UpSampling1D(2)(x)\n",
    "\n",
    "    decoded = Conv1D(2, ks, activation='linear', padding='same')(x)\n",
    "\n",
    "    # Create the autoencoder model\n",
    "    autoencoder = Model(input_layer, decoded)\n",
    "\n",
    "    # Compile the model\n",
    "    autoencoder.compile(optimizer=tf.keras.optimizers.Adam(learning_rate=lr), loss='mse', metrics=[CorrCoeff])\n",
    "    \n",
    "    return autoencoder"
   ]
  },
  {
   "cell_type": "code",
   "execution_count": 17,
   "id": "faf17622",
   "metadata": {},
   "outputs": [
    {
     "name": "stdout",
     "output_type": "stream",
     "text": [
      "Epoch 1/10\n",
      "668/668 [==============================] - ETA: 0s - loss: 0.0015 - CorrCoeff: 0.2632\n",
      "Epoch 00001: val_loss improved from inf to 0.00076, saving model to /mnt/janus/arehman/work/2024_V7/JanFeb_70-350/2D_CNN/Denoiser/TstTrn/TestModels/Denoiser_ant1.h5\n",
      "668/668 [==============================] - 17s 20ms/step - loss: 0.0015 - CorrCoeff: 0.2632 - val_loss: 7.6105e-04 - val_CorrCoeff: 0.7446\n",
      "Epoch 2/10\n",
      "667/668 [============================>.] - ETA: 0s - loss: 5.7242e-04 - CorrCoeff: 0.8158\n",
      "Epoch 00002: val_loss improved from 0.00076 to 0.00046, saving model to /mnt/janus/arehman/work/2024_V7/JanFeb_70-350/2D_CNN/Denoiser/TstTrn/TestModels/Denoiser_ant1.h5\n",
      "668/668 [==============================] - 12s 18ms/step - loss: 5.7235e-04 - CorrCoeff: 0.8159 - val_loss: 4.6243e-04 - val_CorrCoeff: 0.8538\n",
      "Epoch 3/10\n",
      "665/668 [============================>.] - ETA: 0s - loss: 4.1360e-04 - CorrCoeff: 0.8710\n",
      "Epoch 00003: val_loss improved from 0.00046 to 0.00037, saving model to /mnt/janus/arehman/work/2024_V7/JanFeb_70-350/2D_CNN/Denoiser/TstTrn/TestModels/Denoiser_ant1.h5\n",
      "668/668 [==============================] - 12s 19ms/step - loss: 4.1338e-04 - CorrCoeff: 0.8711 - val_loss: 3.7435e-04 - val_CorrCoeff: 0.8835\n",
      "Epoch 4/10\n",
      "666/668 [============================>.] - ETA: 0s - loss: 3.4796e-04 - CorrCoeff: 0.8927\n",
      "Epoch 00004: val_loss improved from 0.00037 to 0.00032, saving model to /mnt/janus/arehman/work/2024_V7/JanFeb_70-350/2D_CNN/Denoiser/TstTrn/TestModels/Denoiser_ant1.h5\n",
      "668/668 [==============================] - 12s 18ms/step - loss: 3.4793e-04 - CorrCoeff: 0.8928 - val_loss: 3.2410e-04 - val_CorrCoeff: 0.9000\n",
      "Epoch 5/10\n",
      "668/668 [==============================] - ETA: 0s - loss: 3.0957e-04 - CorrCoeff: 0.9052\n",
      "Epoch 00005: val_loss improved from 0.00032 to 0.00029, saving model to /mnt/janus/arehman/work/2024_V7/JanFeb_70-350/2D_CNN/Denoiser/TstTrn/TestModels/Denoiser_ant1.h5\n",
      "668/668 [==============================] - 12s 19ms/step - loss: 3.0957e-04 - CorrCoeff: 0.9052 - val_loss: 2.9444e-04 - val_CorrCoeff: 0.9096\n",
      "Epoch 6/10\n",
      "665/668 [============================>.] - ETA: 0s - loss: 2.8442e-04 - CorrCoeff: 0.9132\n",
      "Epoch 00006: val_loss improved from 0.00029 to 0.00027, saving model to /mnt/janus/arehman/work/2024_V7/JanFeb_70-350/2D_CNN/Denoiser/TstTrn/TestModels/Denoiser_ant1.h5\n",
      "668/668 [==============================] - 12s 18ms/step - loss: 2.8440e-04 - CorrCoeff: 0.9132 - val_loss: 2.7286e-04 - val_CorrCoeff: 0.9165\n",
      "Epoch 7/10\n",
      "666/668 [============================>.] - ETA: 0s - loss: 2.6520e-04 - CorrCoeff: 0.9193\n",
      "Epoch 00007: val_loss improved from 0.00027 to 0.00026, saving model to /mnt/janus/arehman/work/2024_V7/JanFeb_70-350/2D_CNN/Denoiser/TstTrn/TestModels/Denoiser_ant1.h5\n",
      "668/668 [==============================] - 12s 18ms/step - loss: 2.6515e-04 - CorrCoeff: 0.9194 - val_loss: 2.5650e-04 - val_CorrCoeff: 0.9217\n",
      "Epoch 8/10\n",
      "665/668 [============================>.] - ETA: 0s - loss: 2.4935e-04 - CorrCoeff: 0.9244\n",
      "Epoch 00008: val_loss improved from 0.00026 to 0.00024, saving model to /mnt/janus/arehman/work/2024_V7/JanFeb_70-350/2D_CNN/Denoiser/TstTrn/TestModels/Denoiser_ant1.h5\n",
      "668/668 [==============================] - 12s 18ms/step - loss: 2.4937e-04 - CorrCoeff: 0.9244 - val_loss: 2.4126e-04 - val_CorrCoeff: 0.9265\n",
      "Epoch 9/10\n",
      "666/668 [============================>.] - ETA: 0s - loss: 2.3568e-04 - CorrCoeff: 0.9287\n",
      "Epoch 00009: val_loss improved from 0.00024 to 0.00023, saving model to /mnt/janus/arehman/work/2024_V7/JanFeb_70-350/2D_CNN/Denoiser/TstTrn/TestModels/Denoiser_ant1.h5\n",
      "668/668 [==============================] - 12s 19ms/step - loss: 2.3565e-04 - CorrCoeff: 0.9287 - val_loss: 2.2965e-04 - val_CorrCoeff: 0.9302\n",
      "Epoch 10/10\n",
      "667/668 [============================>.] - ETA: 0s - loss: 2.2399e-04 - CorrCoeff: 0.9324\n",
      "Epoch 00010: val_loss improved from 0.00023 to 0.00022, saving model to /mnt/janus/arehman/work/2024_V7/JanFeb_70-350/2D_CNN/Denoiser/TstTrn/TestModels/Denoiser_ant1.h5\n",
      "668/668 [==============================] - 12s 18ms/step - loss: 2.2395e-04 - CorrCoeff: 0.9324 - val_loss: 2.1871e-04 - val_CorrCoeff: 0.9337\n"
     ]
    }
   ],
   "source": [
    "ModelsDir = DataDir + \"/TestModels\"\n",
    "\n",
    "### Training\n",
    "lr_scheduler = LearningRateScheduler(factor=0.5, patience=5)\n",
    "es = EarlyStopping(monitor='val_loss', mode='min',restore_best_weights=True, verbose=1, patience=5)\n",
    "mc = ModelCheckpoint(ModelsDir+f'/Denoiser_{ant}.h5',\n",
    "                                    monitor = 'val_loss', mode = 'min', verbose=1, save_best_only=True)\n",
    "\n",
    "autoencoder = Denoiser(fil=12, ks=33, lr=1e-4)\n",
    "\n",
    "history = autoencoder.fit(x_train, y_train, \n",
    "                          epochs=10, \n",
    "                          batch_size=200, \n",
    "                          shuffle=True,\n",
    "                          validation_data=(x_test, y_test), \n",
    "                          callbacks=[lr_scheduler, es, mc])"
   ]
  },
  {
   "cell_type": "code",
   "execution_count": 18,
   "id": "1323366c",
   "metadata": {},
   "outputs": [
    {
     "data": {
      "text/plain": [
       "dict_keys(['loss', 'CorrCoeff', 'val_loss', 'val_CorrCoeff'])"
      ]
     },
     "execution_count": 18,
     "metadata": {},
     "output_type": "execute_result"
    }
   ],
   "source": [
    "history.history.keys()"
   ]
  },
  {
   "cell_type": "code",
   "execution_count": 19,
   "id": "c81957ff",
   "metadata": {},
   "outputs": [],
   "source": [
    "history.history.keys()\n",
    "train_loss = history.history[list(history.history.keys())[0]]\n",
    "test_loss = history.history[list(history.history.keys())[2]]\n",
    "\n",
    "train_accu = history.history[list(history.history.keys())[1]]\n",
    "test_accu = history.history[list(history.history.keys())[3]]"
   ]
  },
  {
   "cell_type": "code",
   "execution_count": 20,
   "id": "d216d3c6",
   "metadata": {},
   "outputs": [
    {
     "data": {
      "image/png": "[encoded data removed]",
      "text/plain": [
       "<Figure size 640x480 with 1 Axes>"
      ]
     },
     "metadata": {},
     "output_type": "display_data"
    },
    {
     "data": {
      "image/png": "[encoded data removed]",
      "text/plain": [
       "<Figure size 640x480 with 1 Axes>"
      ]
     },
     "metadata": {},
     "output_type": "display_data"
    }
   ],
   "source": [
    "plt.plot(train_loss, label=\"train_loss\")\n",
    "plt.plot(test_loss, label=\"test_loss\")\n",
    "plt.legend()\n",
    "plt.figure()\n",
    "plt.plot(train_accu, label=\"train_accu\")\n",
    "plt.plot(test_accu, label=\"test_accu\")\n",
    "plt.legend();"
   ]
  },
  {
   "cell_type": "code",
   "execution_count": null,
   "id": "6c475c25",
   "metadata": {},
   "outputs": [],
   "source": []
  },
  {
   "cell_type": "code",
   "execution_count": null,
   "id": "7cbe05f9",
   "metadata": {},
   "outputs": [],
   "source": []
  }
 ],
 "metadata": {
  "kernelspec": {
   "display_name": "Tensorflow",
   "language": "python",
   "name": "tf_kernel"
  },
  "language_info": {
   "codemirror_mode": {
    "name": "ipython",
    "version": 3
   },
   "file_extension": ".py",
   "mimetype": "text/x-python",
   "name": "python",
   "nbconvert_exporter": "python",
   "pygments_lexer": "ipython3",
   "version": "3.10.2"
  }
 },
 "nbformat": 4,
 "nbformat_minor": 5
}
