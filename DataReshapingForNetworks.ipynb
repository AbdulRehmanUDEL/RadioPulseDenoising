{
 "cells": [
  {
   "cell_type": "code",
   "execution_count": 1,
   "id": "a710780a",
   "metadata": {},
   "outputs": [
    {
     "data": {
      "text/html": [
       "<style>.container { width:85% !important; }</style>"
      ],
      "text/plain": [
       "<IPython.core.display.HTML object>"
      ]
     },
     "metadata": {},
     "output_type": "display_data"
    }
   ],
   "source": [
    "## This script prepares data for the Networks training\n",
    "## combining the data from 2 channels of an antenna.\n",
    "## Test Train split is also done in this script\n",
    "\n",
    "from IPython.display import display, HTML\n",
    "display(HTML(\"<style>.container { width:85% !important; }</style>\"))"
   ]
  },
  {
   "cell_type": "markdown",
   "id": "b06bfd26",
   "metadata": {},
   "source": [
    "# 2D Denoiser data creation"
   ]
  },
  {
   "cell_type": "code",
   "execution_count": 11,
   "id": "e87625b4",
   "metadata": {},
   "outputs": [
    {
     "name": "stdout",
     "output_type": "stream",
     "text": [
      "Loading ant1 Data\n",
      "Initial shapes = sig: (192233, 1000), sig_noise: (192233, 1000)\n",
      "Concate shape Sig_noise = (192233, 1000, 2) and signals only = (192233, 1000, 2)\n",
      "Saving tstTrain data\n",
      "Loading ant2 Data\n",
      "Initial shapes = sig: (192229, 1000), sig_noise: (192229, 1000)\n",
      "Concate shape Sig_noise = (192229, 1000, 2) and signals only = (192229, 1000, 2)\n",
      "Saving tstTrain data\n",
      "Loading ant3 Data\n",
      "Initial shapes = sig: (192225, 1000), sig_noise: (192225, 1000)\n",
      "Concate shape Sig_noise = (192225, 1000, 2) and signals only = (192225, 1000, 2)\n",
      "Saving tstTrain data\n"
     ]
    }
   ],
   "source": [
    "import numpy as np\n",
    "\n",
    "from sklearn.model_selection import train_test_split\n",
    "import os\n",
    "\n",
    "# Provide the directory where the data from MakeTraces is stored\n",
    "# The direcotry should contain data from both channels\n",
    "DataDir = \"\"\n",
    "# provide the output path where to store\n",
    "Outpath = \"\"\n",
    "\n",
    "ns_ch0 = np.load(DataDir + \"/ch0_SigPlusNoise.npz\")\n",
    "ns_ch0 = ns_ch0[\"arr_0\"]\n",
    "ns_ch1 = np.load(DataDir + \"/ch1_SigPlusNoise.npz\")\n",
    "ns_ch1 = ns_ch1[\"arr_0\"]\n",
    "\n",
    "sig_ch0 = np.load(DataDir + \"/ch0_Signals.npz\")\n",
    "sig_ch0 = sig_ch0[\"arr_0\"]\n",
    "sig_ch1 = np.load(DataDir + \"/ch1_Signals.npz\")\n",
    "sig_ch1 = sig_ch1[\"arr_0\"]\n",
    "\n",
    "print(f\"Initial shapes = sig: {sig_ch0.shape}, sig_noise: {ns_ch0.shape}\")\n",
    "\n",
    "sig_only = np.stack([sig_ch0, sig_ch1], axis=2) ### Combine two channels to make an event \n",
    "sig_noise = np.stack([ns_ch0, ns_ch1], axis=2)\n",
    "\n",
    "\n",
    "print(f\"Concate shape Sig_noise = {sig_noise.shape} and signals only = {sig_only.shape}\")\n",
    "\n",
    "del ns_ch0, ns_ch1, sig_ch0, sig_ch1\n",
    "\n",
    "## Split the test and train data\n",
    "Traces_train, Traces_test, labels_train, labels_test= train_test_split(sig_noise,\n",
    "                                                             sig_only,\n",
    "                                                             random_state=42,\n",
    "                                                             test_size=0.3)\n",
    "\n",
    "print(\"Saving tstTrain data\")\n",
    "\n",
    "np.save(Outpath + f\"/{ant}_Noisy_train.npy\", Traces_train)\n",
    "np.save(Outpath + f\"/{ant}_Noisy_temp.npy\", Traces_test)\n",
    "np.save(Outpath + f\"/{ant}_Signals_train.npy\", labels_train)\n",
    "np.save(Outpath + f\"/{ant}_Signals_temp.npy\", labels_test)\n",
    "\n",
    "del Traces_train, Traces_test, labels_train, labels_test"
   ]
  },
  {
   "cell_type": "markdown",
   "id": "46c4640b",
   "metadata": {},
   "source": [
    "# 2D Clasifier data creation"
   ]
  },
  {
   "cell_type": "code",
   "execution_count": 14,
   "id": "ff2c2fd1",
   "metadata": {},
   "outputs": [
    {
     "name": "stdout",
     "output_type": "stream",
     "text": [
      "Loading ant1 Data\n",
      "Initial shapes = sig: (192233, 1000), noise: (192233, 1000)\n",
      "Concate shape Sig_noise = (192233, 1000, 2) and noise only = (192233, 1000, 2)\n",
      "Saving tstTrain data\n",
      "Loading ant2 Data\n",
      "Initial shapes = sig: (192229, 1000), noise: (192229, 1000)\n",
      "Concate shape Sig_noise = (192229, 1000, 2) and noise only = (192229, 1000, 2)\n",
      "Saving tstTrain data\n",
      "Loading ant3 Data\n",
      "Initial shapes = sig: (192225, 1000), noise: (192225, 1000)\n",
      "Concate shape Sig_noise = (192225, 1000, 2) and noise only = (192225, 1000, 2)\n",
      "Saving tstTrain data\n"
     ]
    }
   ],
   "source": [
    "## Here we combine the channels data and create labels for the classifier\n",
    "\n",
    "# Specify the output path for classifier data\n",
    "OutpathClassifier = \"\"\n",
    "\n",
    "ns_ch0 = np.load(DataDir + \"/ch0_SigPlusNoise.npz\")\n",
    "ns_ch0 = ns_ch0[\"arr_0\"]\n",
    "ns_ch1 = np.load(DataDir + \"/ch1_SigPlusNoise.npz\")\n",
    "ns_ch1 = ns_ch1[\"arr_0\"]\n",
    "\n",
    "no_ch0 = np.load(DataDir + \"/ch0_NoiseOnly.npz\")\n",
    "no_ch0 = no_ch0[\"arr_0\"]\n",
    "no_ch1 = np.load(DataDir + \"/ch1_NoiseOnly.npz\")\n",
    "no_ch1 = no_ch1[\"arr_0\"]\n",
    "\n",
    "print(f\"Initial shapes = sig: {ns_ch0.shape}, noise: {no_ch0.shape}\")\n",
    "\n",
    "noise_only = np.stack([no_ch0, no_ch1], axis=2) ### Combine two channels to make an event \n",
    "sig_noise = np.stack([ns_ch0, ns_ch1], axis=2)\n",
    "\n",
    "\n",
    "print(f\"Concate shape Sig_noise = {sig_noise.shape} and noise only = {noise_only.shape}\")\n",
    "\n",
    "del ns_ch0, ns_ch1, no_ch0, no_ch1\n",
    "\n",
    "## Labels for signal and background traces\n",
    "L1 = np.ones(len(sig_noise))\n",
    "L2 = np.zeros(len(noise_only))\n",
    "\n",
    "Traces = np.concatenate((sig_noise, noise_only))\n",
    "\n",
    "Labels = np.concatenate((L1, L2))\n",
    "\n",
    "del sig_noise, noise_only, L1, L2\n",
    "\n",
    "## Splitting the data\n",
    "Traces_train, Traces_test, Labels_train, Labels_test = train_test_split(Traces, Labels,\n",
    "                                                    random_state=42,\n",
    "                                                    test_size=0.3)\n",
    "\n",
    "\n",
    "### Saving the data\n",
    "np.save(OutpathClassifier + f\"/{ant}_Traces_train.npy\", Traces_train)\n",
    "np.save(OutpathClassifier + f\"/{ant}_Traces_temp.npy\", Traces_test)\n",
    "np.save(OutpathClassifier + f\"/{ant}_Labels_train.npy\", Labels_train)\n",
    "np.save(OutpathClassifier + f\"/{ant}_Labels_temp.npy\", Labels_test)\n",
    "\n",
    "\n",
    "del Traces_train, Traces_test, Labels_train, Labels_test"
   ]
  }
 ],
 "metadata": {
  "kernelspec": {
   "display_name": "Python 3 (ipykernel)",
   "language": "python",
   "name": "python3"
  },
  "language_info": {
   "codemirror_mode": {
    "name": "ipython",
    "version": 3
   },
   "file_extension": ".py",
   "mimetype": "text/x-python",
   "name": "python",
   "nbconvert_exporter": "python",
   "pygments_lexer": "ipython3",
   "version": "3.10.2"
  }
 },
 "nbformat": 4,
 "nbformat_minor": 5
}
